{
 "cells": [
  {
   "cell_type": "code",
   "execution_count": 1,
   "metadata": {},
   "outputs": [],
   "source": [
    "from keras.applications import VGG16\n",
    "from keras.datasets import fashion_mnist\n",
    "from keras.preprocessing.image import img_to_array, array_to_img\n",
    "from keras import models, layers\n",
    "from keras import callbacks\n",
    "import numpy as np\n",
    "import keras_tuner"
   ]
  },
  {
   "cell_type": "code",
   "execution_count": 2,
   "metadata": {},
   "outputs": [
    {
     "name": "stdout",
     "output_type": "stream",
     "text": [
      "(60000, 48, 48, 3)\n"
     ]
    }
   ],
   "source": [
    "#preparing data\n",
    "num_classes = 10\n",
    "num_features = 784\n",
    "(train_data, train_labels), (test_data, test_labels) = fashion_mnist.load_data()\n",
    "#converting into 3 channels\n",
    "train_data, test_data = np.stack([train_data] * 3, axis=-1), np.stack([test_data] * 3, axis=-1)\n",
    "#resizing\n",
    "train_data = np.asarray([img_to_array(array_to_img(im, scale=False).resize((48,48))) for im in train_data])\n",
    "test_data = np.asarray([img_to_array(array_to_img(im, scale=False).resize((48,48))) for im in test_data])\n",
    "train_data, test_data = np.array(train_data, np.float32), np.array(test_data, np.float32)\n",
    "train_data, test_data = train_data / 255., test_data / 255.\n",
    "print(train_data.shape)"
   ]
  },
  {
   "cell_type": "code",
   "execution_count": 3,
   "metadata": {},
   "outputs": [],
   "source": [
    "#model creator\n",
    "def create_model():\n",
    "    vgg = VGG16(\n",
    "        include_top=False,\n",
    "        weights=\"imagenet\",\n",
    "        input_shape=(48, 48, 3))\n",
    "    vgg.trainable = False\n",
    "    model = models.Sequential([\n",
    "        vgg,\n",
    "        layers.Flatten(),\n",
    "        layers.Dense(128, activation=\"relu\"),\n",
    "        layers.Dropout(0.1),\n",
    "        layers.Dense(10, activation=\"softmax\")\n",
    "    ])\n",
    "    model.compile(\n",
    "        optimizer=\"adam\",\n",
    "        loss=\"sparse_categorical_crossentropy\",\n",
    "        metrics=[\"accuracy\"])\n",
    "    return model"
   ]
  },
  {
   "cell_type": "code",
   "execution_count": 4,
   "metadata": {},
   "outputs": [
    {
     "name": "stdout",
     "output_type": "stream",
     "text": [
      "Epoch 1/20\n",
      "1875/1875 [==============================] - 2732s 1s/step - loss: 0.5182 - accuracy: 0.8172 - val_loss: 0.4103 - val_accuracy: 0.8532\n",
      "Epoch 2/20\n",
      "1875/1875 [==============================] - 2665s 1s/step - loss: 0.3840 - accuracy: 0.8591 - val_loss: 0.3759 - val_accuracy: 0.8667\n",
      "Epoch 3/20\n",
      "1875/1875 [==============================] - 2655s 1s/step - loss: 0.3511 - accuracy: 0.8701 - val_loss: 0.3707 - val_accuracy: 0.8647\n",
      "Epoch 4/20\n",
      "1875/1875 [==============================] - 2661s 1s/step - loss: 0.3284 - accuracy: 0.8795 - val_loss: 0.3546 - val_accuracy: 0.8737\n",
      "Epoch 5/20\n",
      "1875/1875 [==============================] - 2658s 1s/step - loss: 0.3146 - accuracy: 0.8834 - val_loss: 0.3522 - val_accuracy: 0.8727\n",
      "Epoch 6/20\n",
      "1875/1875 [==============================] - 2656s 1s/step - loss: 0.3005 - accuracy: 0.8886 - val_loss: 0.3431 - val_accuracy: 0.8759\n",
      "Epoch 7/20\n",
      "1875/1875 [==============================] - 2664s 1s/step - loss: 0.2895 - accuracy: 0.8921 - val_loss: 0.3507 - val_accuracy: 0.8745\n",
      "Epoch 8/20\n",
      "1875/1875 [==============================] - 2667s 1s/step - loss: 0.2785 - accuracy: 0.8959 - val_loss: 0.3436 - val_accuracy: 0.8804\n",
      "Epoch 9/20\n",
      "1875/1875 [==============================] - 2652s 1s/step - loss: 0.2710 - accuracy: 0.8990 - val_loss: 0.3345 - val_accuracy: 0.8813\n",
      "Epoch 10/20\n",
      "1875/1875 [==============================] - 2657s 1s/step - loss: 0.2631 - accuracy: 0.9018 - val_loss: 0.3418 - val_accuracy: 0.8779\n",
      "Epoch 11/20\n",
      "1875/1875 [==============================] - 2649s 1s/step - loss: 0.2555 - accuracy: 0.9044 - val_loss: 0.3295 - val_accuracy: 0.8832\n",
      "Epoch 12/20\n",
      "1875/1875 [==============================] - 2644s 1s/step - loss: 0.2484 - accuracy: 0.9077 - val_loss: 0.3326 - val_accuracy: 0.8866\n",
      "Epoch 13/20\n",
      "1875/1875 [==============================] - 2657s 1s/step - loss: 0.2410 - accuracy: 0.9099 - val_loss: 0.3406 - val_accuracy: 0.8838\n",
      "Epoch 14/20\n",
      "1875/1875 [==============================] - 2675s 1s/step - loss: 0.2356 - accuracy: 0.9115 - val_loss: 0.3444 - val_accuracy: 0.8861\n",
      "Epoch 15/20\n",
      "1875/1875 [==============================] - 2687s 1s/step - loss: 0.2317 - accuracy: 0.9130 - val_loss: 0.3464 - val_accuracy: 0.8829\n",
      "Epoch 16/20\n",
      "1875/1875 [==============================] - 2629s 1s/step - loss: 0.2249 - accuracy: 0.9154 - val_loss: 0.3316 - val_accuracy: 0.8888\n"
     ]
    },
    {
     "data": {
      "text/plain": [
       "<keras.src.callbacks.History at 0x2412596a590>"
      ]
     },
     "execution_count": 4,
     "metadata": {},
     "output_type": "execute_result"
    }
   ],
   "source": [
    "#building the model\n",
    "stop_early = callbacks.EarlyStopping(monitor='val_loss', patience=5)  \n",
    "model = create_model()\n",
    "model.fit(train_data, train_labels, epochs=20, validation_data=(test_data, test_labels), callbacks=[stop_early])"
   ]
  },
  {
   "cell_type": "code",
   "execution_count": 5,
   "metadata": {},
   "outputs": [
    {
     "name": "stdout",
     "output_type": "stream",
     "text": [
      "313/313 [==============================] - 352s 1s/step - loss: 0.3316 - accuracy: 0.8888\n"
     ]
    },
    {
     "data": {
      "text/plain": [
       "[0.3315577805042267, 0.8888000249862671]"
      ]
     },
     "execution_count": 5,
     "metadata": {},
     "output_type": "execute_result"
    }
   ],
   "source": [
    "#getting accuracy\n",
    "model.evaluate(test_data, test_labels)\n",
    "#Цікаво що тут точність ще нижче ніж в простій мережі з попереднього завдання.\n",
    "#Не хочу чекати ще 11 годин поки навчиться модель з іншими параметрами. Вже час здавати це завдання.\n",
    "#Можливо і можна досягти більшої точності, але я точно не встигну цю модель натренувати до кінця тижня."
   ]
  }
 ],
 "metadata": {
  "kernelspec": {
   "display_name": "Python 3",
   "language": "python",
   "name": "python3"
  },
  "language_info": {
   "codemirror_mode": {
    "name": "ipython",
    "version": 3
   },
   "file_extension": ".py",
   "mimetype": "text/x-python",
   "name": "python",
   "nbconvert_exporter": "python",
   "pygments_lexer": "ipython3",
   "version": "3.11.1"
  }
 },
 "nbformat": 4,
 "nbformat_minor": 2
}
