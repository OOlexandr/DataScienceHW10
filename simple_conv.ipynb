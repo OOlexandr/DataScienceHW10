{
 "cells": [
  {
   "cell_type": "code",
   "execution_count": 22,
   "metadata": {},
   "outputs": [],
   "source": [
    "from keras import models\n",
    "from keras import layers\n",
    "from keras import callbacks\n",
    "import keras_tuner\n",
    "from keras.datasets import fashion_mnist\n",
    "import numpy as np"
   ]
  },
  {
   "cell_type": "code",
   "execution_count": 11,
   "metadata": {},
   "outputs": [],
   "source": [
    "#preparing data\n",
    "num_classes = 10\n",
    "num_features = 784\n",
    "(train_data, train_labels), (test_data, test_labels) = fashion_mnist.load_data()\n",
    "train_data, test_data = np.array(train_data, np.float32), np.array(test_data, np.float32)\n",
    "train_data, test_data = train_data / 255., test_data / 255."
   ]
  },
  {
   "cell_type": "code",
   "execution_count": 18,
   "metadata": {},
   "outputs": [
    {
     "data": {
      "text/plain": [
       "<keras.src.engine.sequential.Sequential at 0x1ce3361e7d0>"
      ]
     },
     "execution_count": 18,
     "metadata": {},
     "output_type": "execute_result"
    }
   ],
   "source": [
    "#create_model\n",
    "def create_model(hp):\n",
    "    model = models.Sequential([\n",
    "        layers.Conv2D(hp.Int(\"filters1\", min_value=32, max_value=128, step=32), (3, 3), activation=\"relu\", input_shape=(28, 28, 1)),\n",
    "        layers.MaxPooling2D((2, 2)),\n",
    "\n",
    "        layers.Conv2D(hp.Int(\"filters2\", min_value=32, max_value=128, step=32), (3, 3), activation=\"relu\"),\n",
    "        layers.MaxPooling2D((2, 2)),\n",
    "\n",
    "        layers.Conv2D(hp.Int(\"filters3\", min_value=32, max_value=128, step=32), (3, 3), activation=\"relu\"),\n",
    "\n",
    "        layers.Flatten(),\n",
    "        layers.Dense(hp.Int(\"neurons\", min_value=16, max_value=128, step=32), activation=\"relu\")\n",
    "    ])\n",
    "    if hp.Boolean('dropout'):\n",
    "        model.add(layers.Dropout(0.2))\n",
    "    model.add(layers.Dense(10, activation=\"softmax\"))\n",
    "    model.compile(\n",
    "        optimizer=\"adam\",\n",
    "        loss=\"sparse_categorical_crossentropy\",\n",
    "        metrics=[\"accuracy\"]\n",
    "    )\n",
    "    return model\n",
    "\n",
    "create_model(keras_tuner.HyperParameters())"
   ]
  },
  {
   "cell_type": "code",
   "execution_count": 23,
   "metadata": {},
   "outputs": [
    {
     "name": "stdout",
     "output_type": "stream",
     "text": [
      "Trial 30 Complete [00h 47m 10s]\n",
      "val_accuracy: 0.911899983882904\n",
      "\n",
      "Best val_accuracy So Far: 0.9125999808311462\n",
      "Total elapsed time: 08h 45m 13s\n"
     ]
    }
   ],
   "source": [
    "#tuning\n",
    "stop_early = callbacks.EarlyStopping(monitor='val_loss', patience=5)          \n",
    "tuner = keras_tuner.Hyperband(hypermodel=create_model, max_epochs=10, objective=\"val_accuracy\")\n",
    "tuner.search(train_data, train_labels, validation_data=(test_data, test_labels))"
   ]
  },
  {
   "cell_type": "code",
   "execution_count": 26,
   "metadata": {},
   "outputs": [
    {
     "name": "stdout",
     "output_type": "stream",
     "text": [
      "Epoch 1/20\n",
      "1875/1875 [==============================] - 170s 89ms/step - loss: 0.6110 - accuracy: 0.7745 - val_loss: 0.4081 - val_accuracy: 0.8521\n",
      "Epoch 2/20\n",
      "1875/1875 [==============================] - 166s 89ms/step - loss: 0.3628 - accuracy: 0.8688 - val_loss: 0.3407 - val_accuracy: 0.8780\n",
      "Epoch 3/20\n",
      "1875/1875 [==============================] - 174s 93ms/step - loss: 0.3084 - accuracy: 0.8881 - val_loss: 0.3214 - val_accuracy: 0.8868\n",
      "Epoch 4/20\n",
      "1875/1875 [==============================] - 172s 92ms/step - loss: 0.2747 - accuracy: 0.9000 - val_loss: 0.2941 - val_accuracy: 0.8925\n",
      "Epoch 5/20\n",
      "1875/1875 [==============================] - 183s 98ms/step - loss: 0.2500 - accuracy: 0.9092 - val_loss: 0.2788 - val_accuracy: 0.9038\n",
      "Epoch 6/20\n",
      "1875/1875 [==============================] - 174s 93ms/step - loss: 0.2253 - accuracy: 0.9185 - val_loss: 0.2835 - val_accuracy: 0.9001\n",
      "Epoch 7/20\n",
      "1875/1875 [==============================] - 170s 90ms/step - loss: 0.2074 - accuracy: 0.9235 - val_loss: 0.2635 - val_accuracy: 0.9051\n",
      "Epoch 8/20\n",
      "1875/1875 [==============================] - 172s 92ms/step - loss: 0.1908 - accuracy: 0.9292 - val_loss: 0.2598 - val_accuracy: 0.9079\n",
      "Epoch 9/20\n",
      "1875/1875 [==============================] - 166s 89ms/step - loss: 0.1751 - accuracy: 0.9358 - val_loss: 0.2596 - val_accuracy: 0.9101\n",
      "Epoch 10/20\n",
      "1875/1875 [==============================] - 176s 94ms/step - loss: 0.1600 - accuracy: 0.9416 - val_loss: 0.2725 - val_accuracy: 0.9091\n",
      "Epoch 11/20\n",
      "1875/1875 [==============================] - 179s 95ms/step - loss: 0.1474 - accuracy: 0.9449 - val_loss: 0.2907 - val_accuracy: 0.9063\n",
      "Epoch 12/20\n",
      "1875/1875 [==============================] - 183s 98ms/step - loss: 0.1352 - accuracy: 0.9500 - val_loss: 0.3003 - val_accuracy: 0.9099\n",
      "Epoch 13/20\n",
      "1875/1875 [==============================] - 188s 100ms/step - loss: 0.1235 - accuracy: 0.9543 - val_loss: 0.3091 - val_accuracy: 0.9028\n",
      "Epoch 14/20\n",
      "1875/1875 [==============================] - 185s 99ms/step - loss: 0.1147 - accuracy: 0.9572 - val_loss: 0.3086 - val_accuracy: 0.9086\n"
     ]
    },
    {
     "data": {
      "text/plain": [
       "<keras.src.callbacks.History at 0x1ce785c7b90>"
      ]
     },
     "execution_count": 26,
     "metadata": {},
     "output_type": "execute_result"
    }
   ],
   "source": [
    "#building the optimal model\n",
    "best_hps = tuner.get_best_hyperparameters()[0]\n",
    "model = tuner.hypermodel.build(best_hps)\n",
    "model.fit(train_data, train_labels, epochs=20, validation_data=(test_data, test_labels), callbacks=[stop_early])"
   ]
  },
  {
   "cell_type": "code",
   "execution_count": 27,
   "metadata": {},
   "outputs": [
    {
     "name": "stdout",
     "output_type": "stream",
     "text": [
      "  6/313 [..............................] - ETA: 8s - loss: 0.3673 - accuracy: 0.9062"
     ]
    },
    {
     "name": "stdout",
     "output_type": "stream",
     "text": [
      "313/313 [==============================] - 8s 26ms/step - loss: 0.3086 - accuracy: 0.9086\n"
     ]
    },
    {
     "data": {
      "text/plain": [
       "[0.30856600403785706, 0.9085999727249146]"
      ]
     },
     "execution_count": 27,
     "metadata": {},
     "output_type": "execute_result"
    }
   ],
   "source": [
    "#getting accuracy\n",
    "model.evaluate(test_data, test_labels)\n",
    "#В задані написано \"порівняйте точність з мережою з останнього завдання\", але в останньому завданні мені довелось використати СNN\n",
    "#бо повнозв'язна мережа ніяк не могла досягти необхідної точності.\n",
    "#Що цікаво, ця мережа дала меншу точність ніж в попередньму завданні. Думаю це тому що Hyberband відмовився використовувати dropout\n",
    "#Але вже буде так. Я не хочу чекати ще 8 годин поки підберуться параметри."
   ]
  }
 ],
 "metadata": {
  "kernelspec": {
   "display_name": "Python 3",
   "language": "python",
   "name": "python3"
  },
  "language_info": {
   "codemirror_mode": {
    "name": "ipython",
    "version": 3
   },
   "file_extension": ".py",
   "mimetype": "text/x-python",
   "name": "python",
   "nbconvert_exporter": "python",
   "pygments_lexer": "ipython3",
   "version": "3.11.1"
  }
 },
 "nbformat": 4,
 "nbformat_minor": 2
}
